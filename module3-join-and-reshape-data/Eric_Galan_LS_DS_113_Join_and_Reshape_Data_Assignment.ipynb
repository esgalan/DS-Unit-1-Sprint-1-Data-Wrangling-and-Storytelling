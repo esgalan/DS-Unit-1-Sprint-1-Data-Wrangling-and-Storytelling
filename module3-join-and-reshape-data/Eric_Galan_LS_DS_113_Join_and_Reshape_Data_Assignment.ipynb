{
  "nbformat": 4,
  "nbformat_minor": 0,
  "metadata": {
    "colab": {
      "name": "Eric_Galan_LS_DS_113_Join_and_Reshape_Data_Assignment.ipynb",
      "provenance": [],
      "collapsed_sections": [],
      "machine_shape": "hm",
      "include_colab_link": true
    },
    "kernelspec": {
      "display_name": "Python 3",
      "language": "python",
      "name": "python3"
    }
  },
  "cells": [
    {
      "cell_type": "markdown",
      "metadata": {
        "id": "view-in-github",
        "colab_type": "text"
      },
      "source": [
        "<a href=\"https://colab.research.google.com/github/esgalan/DS-Unit-1-Sprint-1-Data-Wrangling-and-Storytelling/blob/master/module3-join-and-reshape-data/Eric_Galan_LS_DS_113_Join_and_Reshape_Data_Assignment.ipynb\" target=\"_parent\"><img src=\"https://colab.research.google.com/assets/colab-badge.svg\" alt=\"Open In Colab\"/></a>"
      ]
    },
    {
      "cell_type": "markdown",
      "metadata": {
        "id": "pmU5YUal1eTZ"
      },
      "source": [
        "_Lambda School Data Science_\n",
        "\n",
        "# Join and Reshape datasets\n",
        "\n",
        "Objectives\n",
        "- concatenate data with pandas\n",
        "- merge data with pandas\n",
        "-  understand tidy data formatting\n",
        "-  melt and pivot data with pandas\n",
        "\n",
        "Links\n",
        "- [Pandas Cheat Sheet](https://github.com/pandas-dev/pandas/blob/master/doc/cheatsheet/Pandas_Cheat_Sheet.pdf)\n",
        "- [Tidy Data](https://en.wikipedia.org/wiki/Tidy_data)\n",
        "  - Combine Data Sets: Standard Joins\n",
        "  - Tidy Data\n",
        "  - Reshaping Data\n",
        "- Python Data Science Handbook\n",
        "  - [Chapter 3.6](https://jakevdp.github.io/PythonDataScienceHandbook/03.06-concat-and-append.html), Combining Datasets: Concat and Append\n",
        "  - [Chapter 3.7](https://jakevdp.github.io/PythonDataScienceHandbook/03.07-merge-and-join.html), Combining Datasets: Merge and Join\n",
        "  - [Chapter 3.8](https://jakevdp.github.io/PythonDataScienceHandbook/03.08-aggregation-and-grouping.html), Aggregation and Grouping\n",
        "  - [Chapter 3.9](https://jakevdp.github.io/PythonDataScienceHandbook/03.09-pivot-tables.html), Pivot Tables\n",
        "  \n",
        "Reference\n",
        "- Pandas Documentation: [Reshaping and Pivot Tables](https://pandas.pydata.org/pandas-docs/stable/reshaping.html)\n",
        "- Modern Pandas, Part 5: [Tidy Data](https://tomaugspurger.github.io/modern-5-tidy.html)"
      ]
    },
    {
      "cell_type": "markdown",
      "metadata": {
        "id": "1rFCdBYk2tkc"
      },
      "source": [
        "#Use the following Instacart data to answer the assignment questions."
      ]
    },
    {
      "cell_type": "code",
      "metadata": {
        "id": "4E3wKrdTChuC",
        "colab": {
          "base_uri": "https://localhost:8080/"
        },
        "outputId": "f48f81ae-7711-446b-b1bb-53a634bc9681"
      },
      "source": [
        "#!wget https://s3.amazonaws.com/instacart-datasets/instacart_online_grocery_shopping_2017_05_01.tar.gz \n",
        "\n",
        "# Make sure we're in the top-level /content directory\n",
        "#\n",
        "# See below for notes on the cd command and why it's %cd instead of !cd\n",
        "%cd /content\n",
        "\n",
        "# Remove everything in the current working directory\n",
        "#\n",
        "# rm is the remove command\n",
        "# -rf specifies the \"recursive\" and \"force\" options to remove all files in \n",
        "# subdirectories without prompting\n",
        "#\n",
        "# THIS IS A POWERFUL COMMAND!\n",
        "#\n",
        "# In this particular case, removing all of the files makes things easier if you\n",
        "# need to re-run these examples by allowing you start with a clean directory\n",
        "# every time.\n",
        "!rm -rf *\n",
        "\n",
        "# wget retrieves files from a remote location\n",
        "!wget https://www.dropbox.com/s/pofcl26lvoj6073/instacart-market-basket-analysis.zip"
      ],
      "execution_count": null,
      "outputs": [
        {
          "output_type": "stream",
          "text": [
            "/content\n",
            "--2020-12-02 21:20:21--  https://www.dropbox.com/s/pofcl26lvoj6073/instacart-market-basket-analysis.zip\n",
            "Resolving www.dropbox.com (www.dropbox.com)... 162.125.3.1, 2620:100:6018:1::a27d:301\n",
            "Connecting to www.dropbox.com (www.dropbox.com)|162.125.3.1|:443... connected.\n",
            "HTTP request sent, awaiting response... 301 Moved Permanently\n",
            "Location: /s/raw/pofcl26lvoj6073/instacart-market-basket-analysis.zip [following]\n",
            "--2020-12-02 21:20:21--  https://www.dropbox.com/s/raw/pofcl26lvoj6073/instacart-market-basket-analysis.zip\n",
            "Reusing existing connection to www.dropbox.com:443.\n",
            "HTTP request sent, awaiting response... 302 Found\n",
            "Location: https://uc40a739a49d8d37829dbd41e071.dl.dropboxusercontent.com/cd/0/inline/BEWeNr5hqGPbSBTzm7Ug3s_6wlFOjNNbBI31nzETEzJABIY4H3Qn68M1TeYem53Ha_vFFMLWuXXoYKUxwVCKFoxbdu5ql1FIfZz_sBFoK7ktNxoEKeuom8vrUHO_LPY9STQ/file# [following]\n",
            "--2020-12-02 21:20:21--  https://uc40a739a49d8d37829dbd41e071.dl.dropboxusercontent.com/cd/0/inline/BEWeNr5hqGPbSBTzm7Ug3s_6wlFOjNNbBI31nzETEzJABIY4H3Qn68M1TeYem53Ha_vFFMLWuXXoYKUxwVCKFoxbdu5ql1FIfZz_sBFoK7ktNxoEKeuom8vrUHO_LPY9STQ/file\n",
            "Resolving uc40a739a49d8d37829dbd41e071.dl.dropboxusercontent.com (uc40a739a49d8d37829dbd41e071.dl.dropboxusercontent.com)... 162.125.3.15, 2620:100:6018:15::a27d:30f\n",
            "Connecting to uc40a739a49d8d37829dbd41e071.dl.dropboxusercontent.com (uc40a739a49d8d37829dbd41e071.dl.dropboxusercontent.com)|162.125.3.15|:443... connected.\n",
            "HTTP request sent, awaiting response... 302 Found\n",
            "Location: /cd/0/inline2/BEVuJGdgoDoT2tVFh4JrVQQTJ8IpgTEd81fqTrKbgOjLShasPBhDwI_Qo7l0QQpbEPiZw8BxS6P9IbqTuLUlas4VvOXnqfvoa50J01hHjS0c4NtAfilbxjq81nipryfL_pSp_eFys6z0hCXHbRkck6vJZSd-LPA3tZyEhfzdv9BO8IvcIY-KrNj4xkENqWk9D7AhZNC1kkvseLXjv4D8IeOTMAcFj-Fwiso6mPgyKtZIyeGRDTEAHpC5Fy-a4Lov04PfeZYbj7HBWba25xyj-Q0_09brjJ5hj6CfLE0drTXEwc5FM1C0_MWZ0aiUScAbdZlKfOOs7z6eEk6iYVEVFx_Q07DQNhc0_NN_kf-b5OH1VQ/file [following]\n",
            "--2020-12-02 21:20:22--  https://uc40a739a49d8d37829dbd41e071.dl.dropboxusercontent.com/cd/0/inline2/BEVuJGdgoDoT2tVFh4JrVQQTJ8IpgTEd81fqTrKbgOjLShasPBhDwI_Qo7l0QQpbEPiZw8BxS6P9IbqTuLUlas4VvOXnqfvoa50J01hHjS0c4NtAfilbxjq81nipryfL_pSp_eFys6z0hCXHbRkck6vJZSd-LPA3tZyEhfzdv9BO8IvcIY-KrNj4xkENqWk9D7AhZNC1kkvseLXjv4D8IeOTMAcFj-Fwiso6mPgyKtZIyeGRDTEAHpC5Fy-a4Lov04PfeZYbj7HBWba25xyj-Q0_09brjJ5hj6CfLE0drTXEwc5FM1C0_MWZ0aiUScAbdZlKfOOs7z6eEk6iYVEVFx_Q07DQNhc0_NN_kf-b5OH1VQ/file\n",
            "Reusing existing connection to uc40a739a49d8d37829dbd41e071.dl.dropboxusercontent.com:443.\n",
            "HTTP request sent, awaiting response... 200 OK\n",
            "Length: 205616541 (196M) [application/zip]\n",
            "Saving to: ‘instacart-market-basket-analysis.zip’\n",
            "\n",
            "instacart-market-ba 100%[===================>] 196.09M  65.2MB/s    in 3.0s    \n",
            "\n",
            "2020-12-02 21:20:26 (65.2 MB/s) - ‘instacart-market-basket-analysis.zip’ saved [205616541/205616541]\n",
            "\n"
          ],
          "name": "stdout"
        }
      ]
    },
    {
      "cell_type": "code",
      "metadata": {
        "id": "dkxqMNGrDJrM",
        "colab": {
          "base_uri": "https://localhost:8080/"
        },
        "outputId": "7f8ad85b-4683-4b32-ebf3-e8b46c088556"
      },
      "source": [
        "# Unzip the archive\n",
        "#\n",
        "# Creates a new directory called instacart-market-basket-analysis\n",
        "\n",
        "!unzip instacart-market-basket-analysis.zip"
      ],
      "execution_count": null,
      "outputs": [
        {
          "output_type": "stream",
          "text": [
            "Archive:  instacart-market-basket-analysis.zip\n",
            "   creating: instacart-market-basket-analysis/\n",
            "  inflating: __MACOSX/._instacart-market-basket-analysis  \n",
            "  inflating: instacart-market-basket-analysis/order_products__prior.csv.zip  \n",
            "  inflating: __MACOSX/instacart-market-basket-analysis/._order_products__prior.csv.zip  \n",
            "  inflating: instacart-market-basket-analysis/.DS_Store  \n",
            "  inflating: __MACOSX/instacart-market-basket-analysis/._.DS_Store  \n",
            "  inflating: instacart-market-basket-analysis/order_products__train.csv.zip  \n",
            "  inflating: __MACOSX/instacart-market-basket-analysis/._order_products__train.csv.zip  \n",
            "  inflating: instacart-market-basket-analysis/aisles.csv.zip  \n",
            "  inflating: __MACOSX/instacart-market-basket-analysis/._aisles.csv.zip  \n",
            "  inflating: instacart-market-basket-analysis/orders.csv.zip  \n",
            "  inflating: __MACOSX/instacart-market-basket-analysis/._orders.csv.zip  \n",
            "  inflating: instacart-market-basket-analysis/departments.csv.zip  \n",
            "  inflating: __MACOSX/instacart-market-basket-analysis/._departments.csv.zip  \n",
            "  inflating: instacart-market-basket-analysis/products.csv.zip  \n",
            "  inflating: __MACOSX/instacart-market-basket-analysis/._products.csv.zip  \n"
          ],
          "name": "stdout"
        }
      ]
    },
    {
      "cell_type": "code",
      "metadata": {
        "id": "qaDdXbQqCnGc",
        "colab": {
          "base_uri": "https://localhost:8080/"
        },
        "outputId": "4751a7a2-daec-49f3-88ea-3de955631428"
      },
      "source": [
        "# Change into the newly-unzipped directory\n",
        "#\n",
        "# % sign is required to change to a new directory -- you can't use !cd like\n",
        "# other commands\n",
        "#\n",
        "# Optional technical details:\n",
        "#\n",
        "# % makes the command apply to the **entire notebook environment**, which is\n",
        "# what you need to do to change the working directory\n",
        "#\n",
        "# The ! sign **opens a new shell process** behind the scenes to execute the\n",
        "# command -- this works fine for regular commands like unzip and ls\n",
        "#\n",
        "# Therefore, !cd would apply only to that new shell and wouldn't change the\n",
        "# global notebook environment\n",
        "#\n",
        "# If this makes your heard hurt, don't worry too much about it. We'll talk\n",
        "# more about the shell and operating systems stuff later in the program.\n",
        "\n",
        "%cd instacart-market-basket-analysis"
      ],
      "execution_count": null,
      "outputs": [
        {
          "output_type": "stream",
          "text": [
            "/content/instacart-market-basket-analysis\n"
          ],
          "name": "stdout"
        }
      ]
    },
    {
      "cell_type": "code",
      "metadata": {
        "id": "eADz6civ204P",
        "colab": {
          "base_uri": "https://localhost:8080/"
        },
        "outputId": "49c5a25c-a80b-42d5-de21-12f371e98355"
      },
      "source": [
        "# Unzip all .csv.zip files in the directory\n",
        "!unzip \"*.zip\""
      ],
      "execution_count": null,
      "outputs": [
        {
          "output_type": "stream",
          "text": [
            "Archive:  products.csv.zip\n",
            "  inflating: products.csv            \n",
            "   creating: __MACOSX/\n",
            "  inflating: __MACOSX/._products.csv  \n",
            "\n",
            "Archive:  departments.csv.zip\n",
            "  inflating: departments.csv         \n",
            "  inflating: __MACOSX/._departments.csv  \n",
            "\n",
            "Archive:  orders.csv.zip\n",
            "  inflating: orders.csv              \n",
            "  inflating: __MACOSX/._orders.csv   \n",
            "\n",
            "Archive:  aisles.csv.zip\n",
            "  inflating: aisles.csv              \n",
            "  inflating: __MACOSX/._aisles.csv   \n",
            "\n",
            "Archive:  order_products__train.csv.zip\n",
            "  inflating: order_products__train.csv  \n",
            "  inflating: __MACOSX/._order_products__train.csv  \n",
            "\n",
            "Archive:  order_products__prior.csv.zip\n",
            "  inflating: order_products__prior.csv  \n",
            "  inflating: __MACOSX/._order_products__prior.csv  \n",
            "\n",
            "6 archives were successfully processed.\n"
          ],
          "name": "stdout"
        }
      ]
    },
    {
      "cell_type": "code",
      "metadata": {
        "id": "nnEkWO4E2_w2",
        "colab": {
          "base_uri": "https://localhost:8080/"
        },
        "outputId": "72a8669c-7b58-4eca-c400-bc31076983f0"
      },
      "source": [
        "# List all csv files in the current directory\n",
        "# -l specifies the \"long\" listing format, which includes additional info on each file\n",
        "# -h specifies \"human readable\" file size units\n",
        "!ls -l -h *.csv"
      ],
      "execution_count": null,
      "outputs": [
        {
          "output_type": "stream",
          "text": [
            "-rw-r--r-- 1 root root 2.6K May  2  2017 aisles.csv\n",
            "-rw-r--r-- 1 root root  270 May  2  2017 departments.csv\n",
            "-rw-r--r-- 1 root root 551M May  2  2017 order_products__prior.csv\n",
            "-rw-r--r-- 1 root root  24M May  2  2017 order_products__train.csv\n",
            "-rw-r--r-- 1 root root 104M May  2  2017 orders.csv\n",
            "-rw-r--r-- 1 root root 2.1M May  2  2017 products.csv\n"
          ],
          "name": "stdout"
        }
      ]
    },
    {
      "cell_type": "markdown",
      "metadata": {
        "id": "kAMtvSQWPUcj"
      },
      "source": [
        "#Use the follwing information to answer the assignment questions.\n",
        "\n",
        "These are the top 10 most frequently ordered products. How many times was each ordered? \n",
        "\n",
        "1. Banana\n",
        "2. Bag of Organic Bananas\n",
        "3. Organic Strawberries\n",
        "4. Organic Baby Spinach \n",
        "5. Organic Hass Avocado\n",
        "6. Organic Avocado\n",
        "7. Large Lemon \n",
        "8. Strawberries\n",
        "9. Limes \n",
        "10. Organic Whole Milk"
      ]
    },
    {
      "cell_type": "markdown",
      "metadata": {
        "id": "xDyL5XUi4FKq"
      },
      "source": [
        "1) Save the products.csv file as a data frame called product_names.  Print the first 5 rows of product_names."
      ]
    },
    {
      "cell_type": "code",
      "metadata": {
        "id": "sDZ_d8104pH1",
        "colab": {
          "base_uri": "https://localhost:8080/",
          "height": 204
        },
        "outputId": "8f853033-77be-4b5e-b100-8f29841f02df"
      },
      "source": [
        "import pandas as pd\n",
        "\n",
        "product_names = pd.read_csv('products.csv')\n",
        "\n",
        "product_names.head()"
      ],
      "execution_count": null,
      "outputs": [
        {
          "output_type": "execute_result",
          "data": {
            "text/html": [
              "<div>\n",
              "<style scoped>\n",
              "    .dataframe tbody tr th:only-of-type {\n",
              "        vertical-align: middle;\n",
              "    }\n",
              "\n",
              "    .dataframe tbody tr th {\n",
              "        vertical-align: top;\n",
              "    }\n",
              "\n",
              "    .dataframe thead th {\n",
              "        text-align: right;\n",
              "    }\n",
              "</style>\n",
              "<table border=\"1\" class=\"dataframe\">\n",
              "  <thead>\n",
              "    <tr style=\"text-align: right;\">\n",
              "      <th></th>\n",
              "      <th>product_id</th>\n",
              "      <th>product_name</th>\n",
              "      <th>aisle_id</th>\n",
              "      <th>department_id</th>\n",
              "    </tr>\n",
              "  </thead>\n",
              "  <tbody>\n",
              "    <tr>\n",
              "      <th>0</th>\n",
              "      <td>1</td>\n",
              "      <td>Chocolate Sandwich Cookies</td>\n",
              "      <td>61</td>\n",
              "      <td>19</td>\n",
              "    </tr>\n",
              "    <tr>\n",
              "      <th>1</th>\n",
              "      <td>2</td>\n",
              "      <td>All-Seasons Salt</td>\n",
              "      <td>104</td>\n",
              "      <td>13</td>\n",
              "    </tr>\n",
              "    <tr>\n",
              "      <th>2</th>\n",
              "      <td>3</td>\n",
              "      <td>Robust Golden Unsweetened Oolong Tea</td>\n",
              "      <td>94</td>\n",
              "      <td>7</td>\n",
              "    </tr>\n",
              "    <tr>\n",
              "      <th>3</th>\n",
              "      <td>4</td>\n",
              "      <td>Smart Ones Classic Favorites Mini Rigatoni Wit...</td>\n",
              "      <td>38</td>\n",
              "      <td>1</td>\n",
              "    </tr>\n",
              "    <tr>\n",
              "      <th>4</th>\n",
              "      <td>5</td>\n",
              "      <td>Green Chile Anytime Sauce</td>\n",
              "      <td>5</td>\n",
              "      <td>13</td>\n",
              "    </tr>\n",
              "  </tbody>\n",
              "</table>\n",
              "</div>"
            ],
            "text/plain": [
              "   product_id  ... department_id\n",
              "0           1  ...            19\n",
              "1           2  ...            13\n",
              "2           3  ...             7\n",
              "3           4  ...             1\n",
              "4           5  ...            13\n",
              "\n",
              "[5 rows x 4 columns]"
            ]
          },
          "metadata": {
            "tags": []
          },
          "execution_count": 6
        }
      ]
    },
    {
      "cell_type": "markdown",
      "metadata": {
        "id": "nAYozVNF33-t"
      },
      "source": [
        "2) Read in order_products_prior.csv and order_products_train.csv.  Concatenate them into one dataset called order_product_link."
      ]
    },
    {
      "cell_type": "code",
      "metadata": {
        "id": "6o_HZWaU47BH",
        "colab": {
          "base_uri": "https://localhost:8080/",
          "height": 204
        },
        "outputId": "f5c267d3-7d24-46c5-9899-3a4292b18575"
      },
      "source": [
        "order_products_prior = pd.read_csv('order_products__prior.csv')\n",
        "order_products_train = pd.read_csv('order_products__train.csv')\n",
        "\n",
        "order_product_link = pd.concat([order_products_prior, order_products_train], axis=0)\n",
        "\n",
        "order_product_link.head()\n"
      ],
      "execution_count": null,
      "outputs": [
        {
          "output_type": "execute_result",
          "data": {
            "text/html": [
              "<div>\n",
              "<style scoped>\n",
              "    .dataframe tbody tr th:only-of-type {\n",
              "        vertical-align: middle;\n",
              "    }\n",
              "\n",
              "    .dataframe tbody tr th {\n",
              "        vertical-align: top;\n",
              "    }\n",
              "\n",
              "    .dataframe thead th {\n",
              "        text-align: right;\n",
              "    }\n",
              "</style>\n",
              "<table border=\"1\" class=\"dataframe\">\n",
              "  <thead>\n",
              "    <tr style=\"text-align: right;\">\n",
              "      <th></th>\n",
              "      <th>order_id</th>\n",
              "      <th>product_id</th>\n",
              "      <th>add_to_cart_order</th>\n",
              "      <th>reordered</th>\n",
              "    </tr>\n",
              "  </thead>\n",
              "  <tbody>\n",
              "    <tr>\n",
              "      <th>0</th>\n",
              "      <td>2</td>\n",
              "      <td>33120</td>\n",
              "      <td>1</td>\n",
              "      <td>1</td>\n",
              "    </tr>\n",
              "    <tr>\n",
              "      <th>1</th>\n",
              "      <td>2</td>\n",
              "      <td>28985</td>\n",
              "      <td>2</td>\n",
              "      <td>1</td>\n",
              "    </tr>\n",
              "    <tr>\n",
              "      <th>2</th>\n",
              "      <td>2</td>\n",
              "      <td>9327</td>\n",
              "      <td>3</td>\n",
              "      <td>0</td>\n",
              "    </tr>\n",
              "    <tr>\n",
              "      <th>3</th>\n",
              "      <td>2</td>\n",
              "      <td>45918</td>\n",
              "      <td>4</td>\n",
              "      <td>1</td>\n",
              "    </tr>\n",
              "    <tr>\n",
              "      <th>4</th>\n",
              "      <td>2</td>\n",
              "      <td>30035</td>\n",
              "      <td>5</td>\n",
              "      <td>0</td>\n",
              "    </tr>\n",
              "  </tbody>\n",
              "</table>\n",
              "</div>"
            ],
            "text/plain": [
              "   order_id  product_id  add_to_cart_order  reordered\n",
              "0         2       33120                  1          1\n",
              "1         2       28985                  2          1\n",
              "2         2        9327                  3          0\n",
              "3         2       45918                  4          1\n",
              "4         2       30035                  5          0"
            ]
          },
          "metadata": {
            "tags": []
          },
          "execution_count": 62
        }
      ]
    },
    {
      "cell_type": "markdown",
      "metadata": {
        "id": "QsGoQ0rI7FIb"
      },
      "source": [
        "3) Use the code below to identify the top 10 most ordered products. Clearly Instacart users really like avocados..."
      ]
    },
    {
      "cell_type": "code",
      "metadata": {
        "id": "VvwRD6mh7AiE"
      },
      "source": [
        "ten_products = [\"Banana\",\n",
        "\"Bag of Organic Bananas\",\n",
        "\"Organic Strawberries\",\n",
        "\"Organic Baby Spinach\",\n",
        "\"Organic Hass Avocado\",\n",
        "\"Organic Avocado\",\n",
        "\"Large Lemon\",\n",
        "\"Strawberries\",\n",
        "\"Limes\",\n",
        "\"Organic Whole Milk\"]\n"
      ],
      "execution_count": null,
      "outputs": []
    },
    {
      "cell_type": "markdown",
      "metadata": {
        "id": "tQehWuPf7Y6N"
      },
      "source": [
        "4) Create a subset of the product_names dataset that includes just the top 10 most ordered products.  Call that dataset product_names_10"
      ]
    },
    {
      "cell_type": "code",
      "metadata": {
        "id": "6ZX0OeGU7gAa",
        "colab": {
          "base_uri": "https://localhost:8080/",
          "height": 359
        },
        "outputId": "1b2a2e7a-ffde-4235-a552-81d531941c41"
      },
      "source": [
        "condition = product_names['product_name'].isin(ten_products)\n",
        "\n",
        "product_names_10 = product_names[condition]\n",
        "\n",
        "product_names_10"
      ],
      "execution_count": null,
      "outputs": [
        {
          "output_type": "execute_result",
          "data": {
            "text/html": [
              "<div>\n",
              "<style scoped>\n",
              "    .dataframe tbody tr th:only-of-type {\n",
              "        vertical-align: middle;\n",
              "    }\n",
              "\n",
              "    .dataframe tbody tr th {\n",
              "        vertical-align: top;\n",
              "    }\n",
              "\n",
              "    .dataframe thead th {\n",
              "        text-align: right;\n",
              "    }\n",
              "</style>\n",
              "<table border=\"1\" class=\"dataframe\">\n",
              "  <thead>\n",
              "    <tr style=\"text-align: right;\">\n",
              "      <th></th>\n",
              "      <th>product_id</th>\n",
              "      <th>product_name</th>\n",
              "      <th>aisle_id</th>\n",
              "      <th>department_id</th>\n",
              "    </tr>\n",
              "  </thead>\n",
              "  <tbody>\n",
              "    <tr>\n",
              "      <th>13175</th>\n",
              "      <td>13176</td>\n",
              "      <td>Bag of Organic Bananas</td>\n",
              "      <td>24</td>\n",
              "      <td>4</td>\n",
              "    </tr>\n",
              "    <tr>\n",
              "      <th>16796</th>\n",
              "      <td>16797</td>\n",
              "      <td>Strawberries</td>\n",
              "      <td>24</td>\n",
              "      <td>4</td>\n",
              "    </tr>\n",
              "    <tr>\n",
              "      <th>21136</th>\n",
              "      <td>21137</td>\n",
              "      <td>Organic Strawberries</td>\n",
              "      <td>24</td>\n",
              "      <td>4</td>\n",
              "    </tr>\n",
              "    <tr>\n",
              "      <th>21902</th>\n",
              "      <td>21903</td>\n",
              "      <td>Organic Baby Spinach</td>\n",
              "      <td>123</td>\n",
              "      <td>4</td>\n",
              "    </tr>\n",
              "    <tr>\n",
              "      <th>24851</th>\n",
              "      <td>24852</td>\n",
              "      <td>Banana</td>\n",
              "      <td>24</td>\n",
              "      <td>4</td>\n",
              "    </tr>\n",
              "    <tr>\n",
              "      <th>26208</th>\n",
              "      <td>26209</td>\n",
              "      <td>Limes</td>\n",
              "      <td>24</td>\n",
              "      <td>4</td>\n",
              "    </tr>\n",
              "    <tr>\n",
              "      <th>27844</th>\n",
              "      <td>27845</td>\n",
              "      <td>Organic Whole Milk</td>\n",
              "      <td>84</td>\n",
              "      <td>16</td>\n",
              "    </tr>\n",
              "    <tr>\n",
              "      <th>47208</th>\n",
              "      <td>47209</td>\n",
              "      <td>Organic Hass Avocado</td>\n",
              "      <td>24</td>\n",
              "      <td>4</td>\n",
              "    </tr>\n",
              "    <tr>\n",
              "      <th>47625</th>\n",
              "      <td>47626</td>\n",
              "      <td>Large Lemon</td>\n",
              "      <td>24</td>\n",
              "      <td>4</td>\n",
              "    </tr>\n",
              "    <tr>\n",
              "      <th>47765</th>\n",
              "      <td>47766</td>\n",
              "      <td>Organic Avocado</td>\n",
              "      <td>24</td>\n",
              "      <td>4</td>\n",
              "    </tr>\n",
              "  </tbody>\n",
              "</table>\n",
              "</div>"
            ],
            "text/plain": [
              "       product_id            product_name  aisle_id  department_id\n",
              "13175       13176  Bag of Organic Bananas        24              4\n",
              "16796       16797            Strawberries        24              4\n",
              "21136       21137    Organic Strawberries        24              4\n",
              "21902       21903    Organic Baby Spinach       123              4\n",
              "24851       24852                  Banana        24              4\n",
              "26208       26209                   Limes        24              4\n",
              "27844       27845      Organic Whole Milk        84             16\n",
              "47208       47209    Organic Hass Avocado        24              4\n",
              "47625       47626             Large Lemon        24              4\n",
              "47765       47766         Organic Avocado        24              4"
            ]
          },
          "metadata": {
            "tags": []
          },
          "execution_count": 73
        }
      ]
    },
    {
      "cell_type": "markdown",
      "metadata": {
        "id": "PuIVJyJp8Zje"
      },
      "source": [
        "5) Merge the order_product_link dataset with the product_names_10 dataset and print the top 20 rows.  Call the new dataset product_orders."
      ]
    },
    {
      "cell_type": "code",
      "metadata": {
        "id": "PJPGAWEk7OVS",
        "colab": {
          "base_uri": "https://localhost:8080/",
          "height": 669
        },
        "outputId": "1c0ac178-8347-4619-8929-46fd994924d6"
      },
      "source": [
        "product_orders = pd.merge(order_product_link, product_names_10, on='product_id')\n",
        "\n",
        "product_orders.head(20)"
      ],
      "execution_count": null,
      "outputs": [
        {
          "output_type": "execute_result",
          "data": {
            "text/html": [
              "<div>\n",
              "<style scoped>\n",
              "    .dataframe tbody tr th:only-of-type {\n",
              "        vertical-align: middle;\n",
              "    }\n",
              "\n",
              "    .dataframe tbody tr th {\n",
              "        vertical-align: top;\n",
              "    }\n",
              "\n",
              "    .dataframe thead th {\n",
              "        text-align: right;\n",
              "    }\n",
              "</style>\n",
              "<table border=\"1\" class=\"dataframe\">\n",
              "  <thead>\n",
              "    <tr style=\"text-align: right;\">\n",
              "      <th></th>\n",
              "      <th>order_id</th>\n",
              "      <th>product_id</th>\n",
              "      <th>add_to_cart_order</th>\n",
              "      <th>reordered</th>\n",
              "      <th>product_name</th>\n",
              "      <th>aisle_id</th>\n",
              "      <th>department_id</th>\n",
              "    </tr>\n",
              "  </thead>\n",
              "  <tbody>\n",
              "    <tr>\n",
              "      <th>0</th>\n",
              "      <td>3</td>\n",
              "      <td>21903</td>\n",
              "      <td>4</td>\n",
              "      <td>1</td>\n",
              "      <td>Organic Baby Spinach</td>\n",
              "      <td>123</td>\n",
              "      <td>4</td>\n",
              "    </tr>\n",
              "    <tr>\n",
              "      <th>1</th>\n",
              "      <td>26</td>\n",
              "      <td>21903</td>\n",
              "      <td>6</td>\n",
              "      <td>0</td>\n",
              "      <td>Organic Baby Spinach</td>\n",
              "      <td>123</td>\n",
              "      <td>4</td>\n",
              "    </tr>\n",
              "    <tr>\n",
              "      <th>2</th>\n",
              "      <td>31</td>\n",
              "      <td>21903</td>\n",
              "      <td>3</td>\n",
              "      <td>1</td>\n",
              "      <td>Organic Baby Spinach</td>\n",
              "      <td>123</td>\n",
              "      <td>4</td>\n",
              "    </tr>\n",
              "    <tr>\n",
              "      <th>3</th>\n",
              "      <td>39</td>\n",
              "      <td>21903</td>\n",
              "      <td>4</td>\n",
              "      <td>0</td>\n",
              "      <td>Organic Baby Spinach</td>\n",
              "      <td>123</td>\n",
              "      <td>4</td>\n",
              "    </tr>\n",
              "    <tr>\n",
              "      <th>4</th>\n",
              "      <td>56</td>\n",
              "      <td>21903</td>\n",
              "      <td>8</td>\n",
              "      <td>1</td>\n",
              "      <td>Organic Baby Spinach</td>\n",
              "      <td>123</td>\n",
              "      <td>4</td>\n",
              "    </tr>\n",
              "    <tr>\n",
              "      <th>5</th>\n",
              "      <td>57</td>\n",
              "      <td>21903</td>\n",
              "      <td>1</td>\n",
              "      <td>0</td>\n",
              "      <td>Organic Baby Spinach</td>\n",
              "      <td>123</td>\n",
              "      <td>4</td>\n",
              "    </tr>\n",
              "    <tr>\n",
              "      <th>6</th>\n",
              "      <td>73</td>\n",
              "      <td>21903</td>\n",
              "      <td>4</td>\n",
              "      <td>1</td>\n",
              "      <td>Organic Baby Spinach</td>\n",
              "      <td>123</td>\n",
              "      <td>4</td>\n",
              "    </tr>\n",
              "    <tr>\n",
              "      <th>7</th>\n",
              "      <td>92</td>\n",
              "      <td>21903</td>\n",
              "      <td>2</td>\n",
              "      <td>1</td>\n",
              "      <td>Organic Baby Spinach</td>\n",
              "      <td>123</td>\n",
              "      <td>4</td>\n",
              "    </tr>\n",
              "    <tr>\n",
              "      <th>8</th>\n",
              "      <td>113</td>\n",
              "      <td>21903</td>\n",
              "      <td>4</td>\n",
              "      <td>0</td>\n",
              "      <td>Organic Baby Spinach</td>\n",
              "      <td>123</td>\n",
              "      <td>4</td>\n",
              "    </tr>\n",
              "    <tr>\n",
              "      <th>9</th>\n",
              "      <td>135</td>\n",
              "      <td>21903</td>\n",
              "      <td>5</td>\n",
              "      <td>1</td>\n",
              "      <td>Organic Baby Spinach</td>\n",
              "      <td>123</td>\n",
              "      <td>4</td>\n",
              "    </tr>\n",
              "    <tr>\n",
              "      <th>10</th>\n",
              "      <td>139</td>\n",
              "      <td>21903</td>\n",
              "      <td>4</td>\n",
              "      <td>1</td>\n",
              "      <td>Organic Baby Spinach</td>\n",
              "      <td>123</td>\n",
              "      <td>4</td>\n",
              "    </tr>\n",
              "    <tr>\n",
              "      <th>11</th>\n",
              "      <td>148</td>\n",
              "      <td>21903</td>\n",
              "      <td>8</td>\n",
              "      <td>1</td>\n",
              "      <td>Organic Baby Spinach</td>\n",
              "      <td>123</td>\n",
              "      <td>4</td>\n",
              "    </tr>\n",
              "    <tr>\n",
              "      <th>12</th>\n",
              "      <td>169</td>\n",
              "      <td>21903</td>\n",
              "      <td>1</td>\n",
              "      <td>0</td>\n",
              "      <td>Organic Baby Spinach</td>\n",
              "      <td>123</td>\n",
              "      <td>4</td>\n",
              "    </tr>\n",
              "    <tr>\n",
              "      <th>13</th>\n",
              "      <td>177</td>\n",
              "      <td>21903</td>\n",
              "      <td>1</td>\n",
              "      <td>1</td>\n",
              "      <td>Organic Baby Spinach</td>\n",
              "      <td>123</td>\n",
              "      <td>4</td>\n",
              "    </tr>\n",
              "    <tr>\n",
              "      <th>14</th>\n",
              "      <td>190</td>\n",
              "      <td>21903</td>\n",
              "      <td>1</td>\n",
              "      <td>0</td>\n",
              "      <td>Organic Baby Spinach</td>\n",
              "      <td>123</td>\n",
              "      <td>4</td>\n",
              "    </tr>\n",
              "    <tr>\n",
              "      <th>15</th>\n",
              "      <td>213</td>\n",
              "      <td>21903</td>\n",
              "      <td>9</td>\n",
              "      <td>1</td>\n",
              "      <td>Organic Baby Spinach</td>\n",
              "      <td>123</td>\n",
              "      <td>4</td>\n",
              "    </tr>\n",
              "    <tr>\n",
              "      <th>16</th>\n",
              "      <td>219</td>\n",
              "      <td>21903</td>\n",
              "      <td>3</td>\n",
              "      <td>1</td>\n",
              "      <td>Organic Baby Spinach</td>\n",
              "      <td>123</td>\n",
              "      <td>4</td>\n",
              "    </tr>\n",
              "    <tr>\n",
              "      <th>17</th>\n",
              "      <td>222</td>\n",
              "      <td>21903</td>\n",
              "      <td>4</td>\n",
              "      <td>1</td>\n",
              "      <td>Organic Baby Spinach</td>\n",
              "      <td>123</td>\n",
              "      <td>4</td>\n",
              "    </tr>\n",
              "    <tr>\n",
              "      <th>18</th>\n",
              "      <td>239</td>\n",
              "      <td>21903</td>\n",
              "      <td>17</td>\n",
              "      <td>1</td>\n",
              "      <td>Organic Baby Spinach</td>\n",
              "      <td>123</td>\n",
              "      <td>4</td>\n",
              "    </tr>\n",
              "    <tr>\n",
              "      <th>19</th>\n",
              "      <td>248</td>\n",
              "      <td>21903</td>\n",
              "      <td>4</td>\n",
              "      <td>1</td>\n",
              "      <td>Organic Baby Spinach</td>\n",
              "      <td>123</td>\n",
              "      <td>4</td>\n",
              "    </tr>\n",
              "  </tbody>\n",
              "</table>\n",
              "</div>"
            ],
            "text/plain": [
              "    order_id  product_id  ...  aisle_id  department_id\n",
              "0          3       21903  ...       123              4\n",
              "1         26       21903  ...       123              4\n",
              "2         31       21903  ...       123              4\n",
              "3         39       21903  ...       123              4\n",
              "4         56       21903  ...       123              4\n",
              "5         57       21903  ...       123              4\n",
              "6         73       21903  ...       123              4\n",
              "7         92       21903  ...       123              4\n",
              "8        113       21903  ...       123              4\n",
              "9        135       21903  ...       123              4\n",
              "10       139       21903  ...       123              4\n",
              "11       148       21903  ...       123              4\n",
              "12       169       21903  ...       123              4\n",
              "13       177       21903  ...       123              4\n",
              "14       190       21903  ...       123              4\n",
              "15       213       21903  ...       123              4\n",
              "16       219       21903  ...       123              4\n",
              "17       222       21903  ...       123              4\n",
              "18       239       21903  ...       123              4\n",
              "19       248       21903  ...       123              4\n",
              "\n",
              "[20 rows x 7 columns]"
            ]
          },
          "metadata": {
            "tags": []
          },
          "execution_count": 71
        }
      ]
    },
    {
      "cell_type": "markdown",
      "metadata": {
        "id": "RBsXg9dZ9OL9"
      },
      "source": [
        "6) Note that every record product_orders dataset is a single instance in which someone ordered one of the top 10 products.  \n",
        "\n",
        "Calcluate the number of times each product was ordered.  What was the most frequently ordered food?"
      ]
    },
    {
      "cell_type": "code",
      "metadata": {
        "id": "9j121LNl9ADc",
        "colab": {
          "base_uri": "https://localhost:8080/",
          "height": 204
        },
        "outputId": "9b0de713-591f-4b24-b3ef-3e29460d5eb1"
      },
      "source": [
        "product_orders['product_name'].value_counts()\n",
        "product_orders.head()"
      ],
      "execution_count": null,
      "outputs": [
        {
          "output_type": "execute_result",
          "data": {
            "text/html": [
              "<div>\n",
              "<style scoped>\n",
              "    .dataframe tbody tr th:only-of-type {\n",
              "        vertical-align: middle;\n",
              "    }\n",
              "\n",
              "    .dataframe tbody tr th {\n",
              "        vertical-align: top;\n",
              "    }\n",
              "\n",
              "    .dataframe thead th {\n",
              "        text-align: right;\n",
              "    }\n",
              "</style>\n",
              "<table border=\"1\" class=\"dataframe\">\n",
              "  <thead>\n",
              "    <tr style=\"text-align: right;\">\n",
              "      <th></th>\n",
              "      <th>order_id</th>\n",
              "      <th>product_id</th>\n",
              "      <th>add_to_cart_order</th>\n",
              "      <th>reordered</th>\n",
              "      <th>product_name</th>\n",
              "      <th>aisle_id</th>\n",
              "      <th>department_id</th>\n",
              "    </tr>\n",
              "  </thead>\n",
              "  <tbody>\n",
              "    <tr>\n",
              "      <th>0</th>\n",
              "      <td>3</td>\n",
              "      <td>21903</td>\n",
              "      <td>4</td>\n",
              "      <td>1</td>\n",
              "      <td>Organic Baby Spinach</td>\n",
              "      <td>123</td>\n",
              "      <td>4</td>\n",
              "    </tr>\n",
              "    <tr>\n",
              "      <th>1</th>\n",
              "      <td>26</td>\n",
              "      <td>21903</td>\n",
              "      <td>6</td>\n",
              "      <td>0</td>\n",
              "      <td>Organic Baby Spinach</td>\n",
              "      <td>123</td>\n",
              "      <td>4</td>\n",
              "    </tr>\n",
              "    <tr>\n",
              "      <th>2</th>\n",
              "      <td>31</td>\n",
              "      <td>21903</td>\n",
              "      <td>3</td>\n",
              "      <td>1</td>\n",
              "      <td>Organic Baby Spinach</td>\n",
              "      <td>123</td>\n",
              "      <td>4</td>\n",
              "    </tr>\n",
              "    <tr>\n",
              "      <th>3</th>\n",
              "      <td>39</td>\n",
              "      <td>21903</td>\n",
              "      <td>4</td>\n",
              "      <td>0</td>\n",
              "      <td>Organic Baby Spinach</td>\n",
              "      <td>123</td>\n",
              "      <td>4</td>\n",
              "    </tr>\n",
              "    <tr>\n",
              "      <th>4</th>\n",
              "      <td>56</td>\n",
              "      <td>21903</td>\n",
              "      <td>8</td>\n",
              "      <td>1</td>\n",
              "      <td>Organic Baby Spinach</td>\n",
              "      <td>123</td>\n",
              "      <td>4</td>\n",
              "    </tr>\n",
              "  </tbody>\n",
              "</table>\n",
              "</div>"
            ],
            "text/plain": [
              "   order_id  product_id  ...  aisle_id  department_id\n",
              "0         3       21903  ...       123              4\n",
              "1        26       21903  ...       123              4\n",
              "2        31       21903  ...       123              4\n",
              "3        39       21903  ...       123              4\n",
              "4        56       21903  ...       123              4\n",
              "\n",
              "[5 rows x 7 columns]"
            ]
          },
          "metadata": {
            "tags": []
          },
          "execution_count": 75
        }
      ]
    },
    {
      "cell_type": "markdown",
      "metadata": {
        "id": "wKoMvy-D-jxZ"
      },
      "source": [
        "#Now we want to figure out when people are ordering all these bananas.\n"
      ]
    },
    {
      "cell_type": "markdown",
      "metadata": {
        "id": "Yf7Aqs0K-2FM"
      },
      "source": [
        "7) Import orders.csv and name the dataset \"orders\".  Print the top 5 observations in orders.\n",
        "\n"
      ]
    },
    {
      "cell_type": "code",
      "metadata": {
        "id": "wj4r-FYzEAL1",
        "colab": {
          "base_uri": "https://localhost:8080/",
          "height": 204
        },
        "outputId": "bded2917-4034-4587-9793-9955e47b140d"
      },
      "source": [
        "orders = pd.read_csv('orders.csv')\n",
        "orders.head()"
      ],
      "execution_count": null,
      "outputs": [
        {
          "output_type": "execute_result",
          "data": {
            "text/html": [
              "<div>\n",
              "<style scoped>\n",
              "    .dataframe tbody tr th:only-of-type {\n",
              "        vertical-align: middle;\n",
              "    }\n",
              "\n",
              "    .dataframe tbody tr th {\n",
              "        vertical-align: top;\n",
              "    }\n",
              "\n",
              "    .dataframe thead th {\n",
              "        text-align: right;\n",
              "    }\n",
              "</style>\n",
              "<table border=\"1\" class=\"dataframe\">\n",
              "  <thead>\n",
              "    <tr style=\"text-align: right;\">\n",
              "      <th></th>\n",
              "      <th>order_id</th>\n",
              "      <th>user_id</th>\n",
              "      <th>eval_set</th>\n",
              "      <th>order_number</th>\n",
              "      <th>order_dow</th>\n",
              "      <th>order_hour_of_day</th>\n",
              "      <th>days_since_prior_order</th>\n",
              "    </tr>\n",
              "  </thead>\n",
              "  <tbody>\n",
              "    <tr>\n",
              "      <th>0</th>\n",
              "      <td>2539329</td>\n",
              "      <td>1</td>\n",
              "      <td>prior</td>\n",
              "      <td>1</td>\n",
              "      <td>2</td>\n",
              "      <td>8</td>\n",
              "      <td>NaN</td>\n",
              "    </tr>\n",
              "    <tr>\n",
              "      <th>1</th>\n",
              "      <td>2398795</td>\n",
              "      <td>1</td>\n",
              "      <td>prior</td>\n",
              "      <td>2</td>\n",
              "      <td>3</td>\n",
              "      <td>7</td>\n",
              "      <td>15.0</td>\n",
              "    </tr>\n",
              "    <tr>\n",
              "      <th>2</th>\n",
              "      <td>473747</td>\n",
              "      <td>1</td>\n",
              "      <td>prior</td>\n",
              "      <td>3</td>\n",
              "      <td>3</td>\n",
              "      <td>12</td>\n",
              "      <td>21.0</td>\n",
              "    </tr>\n",
              "    <tr>\n",
              "      <th>3</th>\n",
              "      <td>2254736</td>\n",
              "      <td>1</td>\n",
              "      <td>prior</td>\n",
              "      <td>4</td>\n",
              "      <td>4</td>\n",
              "      <td>7</td>\n",
              "      <td>29.0</td>\n",
              "    </tr>\n",
              "    <tr>\n",
              "      <th>4</th>\n",
              "      <td>431534</td>\n",
              "      <td>1</td>\n",
              "      <td>prior</td>\n",
              "      <td>5</td>\n",
              "      <td>4</td>\n",
              "      <td>15</td>\n",
              "      <td>28.0</td>\n",
              "    </tr>\n",
              "  </tbody>\n",
              "</table>\n",
              "</div>"
            ],
            "text/plain": [
              "   order_id  user_id  ... order_hour_of_day  days_since_prior_order\n",
              "0   2539329        1  ...                 8                     NaN\n",
              "1   2398795        1  ...                 7                    15.0\n",
              "2    473747        1  ...                12                    21.0\n",
              "3   2254736        1  ...                 7                    29.0\n",
              "4    431534        1  ...                15                    28.0\n",
              "\n",
              "[5 rows x 7 columns]"
            ]
          },
          "metadata": {
            "tags": []
          },
          "execution_count": 74
        }
      ]
    },
    {
      "cell_type": "markdown",
      "metadata": {
        "id": "UJLKgUt_AAlW"
      },
      "source": [
        "8) Merge the orders dataset and the product_orders dataset so we can see the time each order of each of the top 10 products was placed."
      ]
    },
    {
      "cell_type": "code",
      "metadata": {
        "id": "lu-21j9cEws6"
      },
      "source": [
        "order_times = pd.merge(orders, product_orders, on='order_id')"
      ],
      "execution_count": null,
      "outputs": []
    },
    {
      "cell_type": "markdown",
      "metadata": {
        "id": "88iUSPClAl2_"
      },
      "source": [
        "9) Create a subset of order_times that includes only orders of Bananas.  Call that dataset Bananas."
      ]
    },
    {
      "cell_type": "code",
      "metadata": {
        "id": "wqILRrRWoQGI",
        "colab": {
          "base_uri": "https://localhost:8080/",
          "height": 439
        },
        "outputId": "410440e6-68a4-4e83-edbb-796bccb8ea2b"
      },
      "source": [
        "bananas_condition = order_times['product_name'] =='Banana'\n",
        "bananas = order_times[bananas_condition]\n",
        "\n",
        "bananas"
      ],
      "execution_count": null,
      "outputs": [
        {
          "output_type": "execute_result",
          "data": {
            "text/html": [
              "<div>\n",
              "<style scoped>\n",
              "    .dataframe tbody tr th:only-of-type {\n",
              "        vertical-align: middle;\n",
              "    }\n",
              "\n",
              "    .dataframe tbody tr th {\n",
              "        vertical-align: top;\n",
              "    }\n",
              "\n",
              "    .dataframe thead th {\n",
              "        text-align: right;\n",
              "    }\n",
              "</style>\n",
              "<table border=\"1\" class=\"dataframe\">\n",
              "  <thead>\n",
              "    <tr style=\"text-align: right;\">\n",
              "      <th></th>\n",
              "      <th>order_id</th>\n",
              "      <th>user_id</th>\n",
              "      <th>eval_set</th>\n",
              "      <th>order_number</th>\n",
              "      <th>order_dow</th>\n",
              "      <th>order_hour_of_day</th>\n",
              "      <th>days_since_prior_order</th>\n",
              "      <th>product_id</th>\n",
              "      <th>add_to_cart_order</th>\n",
              "      <th>reordered</th>\n",
              "      <th>product_name</th>\n",
              "      <th>aisle_id</th>\n",
              "      <th>department_id</th>\n",
              "    </tr>\n",
              "  </thead>\n",
              "  <tbody>\n",
              "    <tr>\n",
              "      <th>9</th>\n",
              "      <td>738281</td>\n",
              "      <td>2</td>\n",
              "      <td>prior</td>\n",
              "      <td>4</td>\n",
              "      <td>2</td>\n",
              "      <td>10</td>\n",
              "      <td>8.0</td>\n",
              "      <td>24852</td>\n",
              "      <td>8</td>\n",
              "      <td>0</td>\n",
              "      <td>Banana</td>\n",
              "      <td>24</td>\n",
              "      <td>4</td>\n",
              "    </tr>\n",
              "    <tr>\n",
              "      <th>12</th>\n",
              "      <td>1199898</td>\n",
              "      <td>2</td>\n",
              "      <td>prior</td>\n",
              "      <td>6</td>\n",
              "      <td>2</td>\n",
              "      <td>9</td>\n",
              "      <td>13.0</td>\n",
              "      <td>24852</td>\n",
              "      <td>7</td>\n",
              "      <td>1</td>\n",
              "      <td>Banana</td>\n",
              "      <td>24</td>\n",
              "      <td>4</td>\n",
              "    </tr>\n",
              "    <tr>\n",
              "      <th>14</th>\n",
              "      <td>3194192</td>\n",
              "      <td>2</td>\n",
              "      <td>prior</td>\n",
              "      <td>7</td>\n",
              "      <td>2</td>\n",
              "      <td>12</td>\n",
              "      <td>14.0</td>\n",
              "      <td>24852</td>\n",
              "      <td>8</td>\n",
              "      <td>1</td>\n",
              "      <td>Banana</td>\n",
              "      <td>24</td>\n",
              "      <td>4</td>\n",
              "    </tr>\n",
              "    <tr>\n",
              "      <th>16</th>\n",
              "      <td>788338</td>\n",
              "      <td>2</td>\n",
              "      <td>prior</td>\n",
              "      <td>8</td>\n",
              "      <td>1</td>\n",
              "      <td>15</td>\n",
              "      <td>27.0</td>\n",
              "      <td>24852</td>\n",
              "      <td>3</td>\n",
              "      <td>1</td>\n",
              "      <td>Banana</td>\n",
              "      <td>24</td>\n",
              "      <td>4</td>\n",
              "    </tr>\n",
              "    <tr>\n",
              "      <th>17</th>\n",
              "      <td>1718559</td>\n",
              "      <td>2</td>\n",
              "      <td>prior</td>\n",
              "      <td>9</td>\n",
              "      <td>2</td>\n",
              "      <td>9</td>\n",
              "      <td>8.0</td>\n",
              "      <td>24852</td>\n",
              "      <td>2</td>\n",
              "      <td>1</td>\n",
              "      <td>Banana</td>\n",
              "      <td>24</td>\n",
              "      <td>4</td>\n",
              "    </tr>\n",
              "    <tr>\n",
              "      <th>...</th>\n",
              "      <td>...</td>\n",
              "      <td>...</td>\n",
              "      <td>...</td>\n",
              "      <td>...</td>\n",
              "      <td>...</td>\n",
              "      <td>...</td>\n",
              "      <td>...</td>\n",
              "      <td>...</td>\n",
              "      <td>...</td>\n",
              "      <td>...</td>\n",
              "      <td>...</td>\n",
              "      <td>...</td>\n",
              "      <td>...</td>\n",
              "    </tr>\n",
              "    <tr>\n",
              "      <th>2418308</th>\n",
              "      <td>2266710</td>\n",
              "      <td>206209</td>\n",
              "      <td>prior</td>\n",
              "      <td>10</td>\n",
              "      <td>5</td>\n",
              "      <td>18</td>\n",
              "      <td>29.0</td>\n",
              "      <td>24852</td>\n",
              "      <td>7</td>\n",
              "      <td>0</td>\n",
              "      <td>Banana</td>\n",
              "      <td>24</td>\n",
              "      <td>4</td>\n",
              "    </tr>\n",
              "    <tr>\n",
              "      <th>2418309</th>\n",
              "      <td>1854736</td>\n",
              "      <td>206209</td>\n",
              "      <td>prior</td>\n",
              "      <td>11</td>\n",
              "      <td>4</td>\n",
              "      <td>10</td>\n",
              "      <td>30.0</td>\n",
              "      <td>24852</td>\n",
              "      <td>4</td>\n",
              "      <td>1</td>\n",
              "      <td>Banana</td>\n",
              "      <td>24</td>\n",
              "      <td>4</td>\n",
              "    </tr>\n",
              "    <tr>\n",
              "      <th>2418310</th>\n",
              "      <td>626363</td>\n",
              "      <td>206209</td>\n",
              "      <td>prior</td>\n",
              "      <td>12</td>\n",
              "      <td>1</td>\n",
              "      <td>12</td>\n",
              "      <td>18.0</td>\n",
              "      <td>24852</td>\n",
              "      <td>2</td>\n",
              "      <td>1</td>\n",
              "      <td>Banana</td>\n",
              "      <td>24</td>\n",
              "      <td>4</td>\n",
              "    </tr>\n",
              "    <tr>\n",
              "      <th>2418312</th>\n",
              "      <td>2977660</td>\n",
              "      <td>206209</td>\n",
              "      <td>prior</td>\n",
              "      <td>13</td>\n",
              "      <td>1</td>\n",
              "      <td>12</td>\n",
              "      <td>7.0</td>\n",
              "      <td>24852</td>\n",
              "      <td>1</td>\n",
              "      <td>1</td>\n",
              "      <td>Banana</td>\n",
              "      <td>24</td>\n",
              "      <td>4</td>\n",
              "    </tr>\n",
              "    <tr>\n",
              "      <th>2418313</th>\n",
              "      <td>272231</td>\n",
              "      <td>206209</td>\n",
              "      <td>train</td>\n",
              "      <td>14</td>\n",
              "      <td>6</td>\n",
              "      <td>14</td>\n",
              "      <td>30.0</td>\n",
              "      <td>24852</td>\n",
              "      <td>3</td>\n",
              "      <td>1</td>\n",
              "      <td>Banana</td>\n",
              "      <td>24</td>\n",
              "      <td>4</td>\n",
              "    </tr>\n",
              "  </tbody>\n",
              "</table>\n",
              "<p>491291 rows × 13 columns</p>\n",
              "</div>"
            ],
            "text/plain": [
              "         order_id  user_id eval_set  ...  product_name  aisle_id  department_id\n",
              "9          738281        2    prior  ...        Banana        24              4\n",
              "12        1199898        2    prior  ...        Banana        24              4\n",
              "14        3194192        2    prior  ...        Banana        24              4\n",
              "16         788338        2    prior  ...        Banana        24              4\n",
              "17        1718559        2    prior  ...        Banana        24              4\n",
              "...           ...      ...      ...  ...           ...       ...            ...\n",
              "2418308   2266710   206209    prior  ...        Banana        24              4\n",
              "2418309   1854736   206209    prior  ...        Banana        24              4\n",
              "2418310    626363   206209    prior  ...        Banana        24              4\n",
              "2418312   2977660   206209    prior  ...        Banana        24              4\n",
              "2418313    272231   206209    train  ...        Banana        24              4\n",
              "\n",
              "[491291 rows x 13 columns]"
            ]
          },
          "metadata": {
            "tags": []
          },
          "execution_count": 99
        }
      ]
    },
    {
      "cell_type": "markdown",
      "metadata": {
        "id": "9CVjG_HgA-UR"
      },
      "source": [
        "10) Run the following code to show a histogram of the times of banana orders (times after noon are written as 13 hours, 14 hours, etc.)"
      ]
    },
    {
      "cell_type": "code",
      "metadata": {
        "id": "0Wjqd0OJA4s2",
        "colab": {
          "base_uri": "https://localhost:8080/",
          "height": 295
        },
        "outputId": "706642b8-1cfe-4a02-cabb-2ff5bc94556e"
      },
      "source": [
        "import matplotlib.pyplot as plt\n",
        "\n",
        "plt.hist(bananas['order_hour_of_day'],bins=24, color='blue')\n",
        "\n",
        "plt.xlabel('Hour of the Day')\n",
        "plt.ylabel('Number of Times Bananas are Ordered')\n",
        "plt.title('Banana Orders by Time of Day')\n",
        "\n",
        "plt.show()"
      ],
      "execution_count": null,
      "outputs": [
        {
          "output_type": "display_data",
          "data": {
            "image/png": "[encoded data removed]",
            "text/plain": [
              "<Figure size 432x288 with 1 Axes>"
            ]
          },
          "metadata": {
            "tags": [],
            "needs_background": "light"
          }
        }
      ]
    },
    {
      "cell_type": "markdown",
      "metadata": {
        "id": "xP-LnICJBbaN"
      },
      "source": [
        "11) When were bananas most frequently ordered?"
      ]
    },
    {
      "cell_type": "markdown",
      "metadata": {
        "id": "2uxIbDtSBhGs"
      },
      "source": [
        "Answer here:  Bananas were most frequently ordered during the 10th hour of the day or 10AM."
      ]
    },
    {
      "cell_type": "markdown",
      "metadata": {
        "id": "uj4qmn_6BqyP"
      },
      "source": [
        "12) Were avocados ordered at a different time a day?  Modify the code below by replacing the ??? to create a histogram of order times of Organic Haas Avocados."
      ]
    },
    {
      "cell_type": "code",
      "metadata": {
        "id": "gj76G-9mAzui",
        "colab": {
          "base_uri": "https://localhost:8080/",
          "height": 305
        },
        "outputId": "f935963d-784d-49ce-a286-02fe24d20bd1"
      },
      "source": [
        "#Calculate mean order times by product\n",
        "\n",
        "Haas_avocado = order_times.loc[order_times['product_name'] == 'Organic Hass Avocado']\n",
        "\n",
        "\n",
        "import matplotlib.pyplot as plt\n",
        "\n",
        "plt.hist(Haas_avocado['order_hour_of_day'],bins=24, color='red')\n",
        "\n",
        "plt.xlabel('Hour of the Day')\n",
        "plt.ylabel('Number of Times Organic Hass Avocados are Ordered')\n",
        "plt.title('Organic Hass Avocado Orders by Time of Day')\n",
        "\n",
        "plt.show()"
      ],
      "execution_count": null,
      "outputs": [
        {
          "output_type": "display_data",
          "data": {
            "image/png": "[encoded data removed]",
            "text/plain": [
              "<Figure size 432x288 with 1 Axes>"
            ]
          },
          "metadata": {
            "tags": [],
            "needs_background": "light"
          }
        }
      ]
    },
    {
      "cell_type": "markdown",
      "metadata": {
        "id": "iTIxum7NCyu1"
      },
      "source": [
        "Answer here: Avocados were most frequently ordered at ~3PM."
      ]
    },
    {
      "cell_type": "markdown",
      "metadata": {
        "id": "mh-XJVuyDbRt"
      },
      "source": [
        "# Portfolio Project Milestone\n",
        "\n",
        "Watch the Showcase Project (formerly known as Build Week) kickoff video to get a sense of what you will accomplish over the next few weeks:\n",
        "https://youtu.be/WYi9EXH-9lU"
      ]
    }
  ]
}